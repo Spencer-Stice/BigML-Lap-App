{
 "cells": [
  {
   "cell_type": "code",
   "execution_count": 10,
   "metadata": {},
   "outputs": [
    {
     "name": "stdout",
     "output_type": "stream",
     "text": [
      "Requirement already satisfied: spuco in c:\\users\\spice\\anaconda3\\envs\\ucla_lap_app\\lib\\site-packages (1.0.3)\n",
      "Requirement already satisfied: matplotlib>=3.7.1 in c:\\users\\spice\\anaconda3\\envs\\ucla_lap_app\\lib\\site-packages (from spuco) (3.8.2)\n",
      "Requirement already satisfied: numpy>=1.23.5 in c:\\users\\spice\\anaconda3\\envs\\ucla_lap_app\\lib\\site-packages (from spuco) (1.26.3)\n",
      "Requirement already satisfied: setuptools>=61.0 in c:\\users\\spice\\anaconda3\\envs\\ucla_lap_app\\lib\\site-packages (from spuco) (68.0.0)\n",
      "Requirement already satisfied: torch>=2.0.0 in c:\\users\\spice\\anaconda3\\envs\\ucla_lap_app\\lib\\site-packages (from spuco) (2.2.0)\n",
      "Requirement already satisfied: torchvision>=0.15.1 in c:\\users\\spice\\anaconda3\\envs\\ucla_lap_app\\lib\\site-packages (from spuco) (0.17.0)\n",
      "Requirement already satisfied: tqdm>=4.65.0 in c:\\users\\spice\\anaconda3\\envs\\ucla_lap_app\\lib\\site-packages (from spuco) (4.66.1)\n",
      "Requirement already satisfied: scikit-learn>=0.20.0 in c:\\users\\spice\\anaconda3\\envs\\ucla_lap_app\\lib\\site-packages (from spuco) (1.4.0)\n",
      "Requirement already satisfied: wilds>=2.0.0 in c:\\users\\spice\\anaconda3\\envs\\ucla_lap_app\\lib\\site-packages (from spuco) (2.0.0)\n",
      "Requirement already satisfied: transformers>=3.5.0 in c:\\users\\spice\\anaconda3\\envs\\ucla_lap_app\\lib\\site-packages (from spuco) (4.37.2)\n",
      "Requirement already satisfied: contourpy>=1.0.1 in c:\\users\\spice\\anaconda3\\envs\\ucla_lap_app\\lib\\site-packages (from matplotlib>=3.7.1->spuco) (1.2.0)\n",
      "Requirement already satisfied: cycler>=0.10 in c:\\users\\spice\\anaconda3\\envs\\ucla_lap_app\\lib\\site-packages (from matplotlib>=3.7.1->spuco) (0.12.1)\n",
      "Requirement already satisfied: fonttools>=4.22.0 in c:\\users\\spice\\anaconda3\\envs\\ucla_lap_app\\lib\\site-packages (from matplotlib>=3.7.1->spuco) (4.47.2)\n",
      "Requirement already satisfied: kiwisolver>=1.3.1 in c:\\users\\spice\\anaconda3\\envs\\ucla_lap_app\\lib\\site-packages (from matplotlib>=3.7.1->spuco) (1.4.5)\n",
      "Requirement already satisfied: packaging>=20.0 in c:\\users\\spice\\anaconda3\\envs\\ucla_lap_app\\lib\\site-packages (from matplotlib>=3.7.1->spuco) (23.1)\n",
      "Requirement already satisfied: pillow>=8 in c:\\users\\spice\\anaconda3\\envs\\ucla_lap_app\\lib\\site-packages (from matplotlib>=3.7.1->spuco) (10.2.0)\n",
      "Requirement already satisfied: pyparsing>=2.3.1 in c:\\users\\spice\\anaconda3\\envs\\ucla_lap_app\\lib\\site-packages (from matplotlib>=3.7.1->spuco) (3.1.1)\n",
      "Requirement already satisfied: python-dateutil>=2.7 in c:\\users\\spice\\anaconda3\\envs\\ucla_lap_app\\lib\\site-packages (from matplotlib>=3.7.1->spuco) (2.8.2)\n",
      "Requirement already satisfied: scipy>=1.6.0 in c:\\users\\spice\\anaconda3\\envs\\ucla_lap_app\\lib\\site-packages (from scikit-learn>=0.20.0->spuco) (1.12.0)\n",
      "Requirement already satisfied: joblib>=1.2.0 in c:\\users\\spice\\anaconda3\\envs\\ucla_lap_app\\lib\\site-packages (from scikit-learn>=0.20.0->spuco) (1.3.2)\n",
      "Requirement already satisfied: threadpoolctl>=2.0.0 in c:\\users\\spice\\anaconda3\\envs\\ucla_lap_app\\lib\\site-packages (from scikit-learn>=0.20.0->spuco) (3.2.0)\n",
      "Requirement already satisfied: filelock in c:\\users\\spice\\anaconda3\\envs\\ucla_lap_app\\lib\\site-packages (from torch>=2.0.0->spuco) (3.13.1)\n",
      "Requirement already satisfied: typing-extensions>=4.8.0 in c:\\users\\spice\\anaconda3\\envs\\ucla_lap_app\\lib\\site-packages (from torch>=2.0.0->spuco) (4.9.0)\n",
      "Requirement already satisfied: sympy in c:\\users\\spice\\anaconda3\\envs\\ucla_lap_app\\lib\\site-packages (from torch>=2.0.0->spuco) (1.12)\n",
      "Requirement already satisfied: networkx in c:\\users\\spice\\anaconda3\\envs\\ucla_lap_app\\lib\\site-packages (from torch>=2.0.0->spuco) (3.2.1)\n",
      "Requirement already satisfied: jinja2 in c:\\users\\spice\\anaconda3\\envs\\ucla_lap_app\\lib\\site-packages (from torch>=2.0.0->spuco) (3.1.3)\n",
      "Requirement already satisfied: fsspec in c:\\users\\spice\\anaconda3\\envs\\ucla_lap_app\\lib\\site-packages (from torch>=2.0.0->spuco) (2023.12.2)\n",
      "Requirement already satisfied: requests in c:\\users\\spice\\anaconda3\\envs\\ucla_lap_app\\lib\\site-packages (from torchvision>=0.15.1->spuco) (2.31.0)\n",
      "Requirement already satisfied: colorama in c:\\users\\spice\\anaconda3\\envs\\ucla_lap_app\\lib\\site-packages (from tqdm>=4.65.0->spuco) (0.4.6)\n",
      "Requirement already satisfied: huggingface-hub<1.0,>=0.19.3 in c:\\users\\spice\\anaconda3\\envs\\ucla_lap_app\\lib\\site-packages (from transformers>=3.5.0->spuco) (0.20.3)\n",
      "Requirement already satisfied: pyyaml>=5.1 in c:\\users\\spice\\anaconda3\\envs\\ucla_lap_app\\lib\\site-packages (from transformers>=3.5.0->spuco) (6.0.1)\n",
      "Requirement already satisfied: regex!=2019.12.17 in c:\\users\\spice\\anaconda3\\envs\\ucla_lap_app\\lib\\site-packages (from transformers>=3.5.0->spuco) (2023.12.25)\n",
      "Requirement already satisfied: tokenizers<0.19,>=0.14 in c:\\users\\spice\\anaconda3\\envs\\ucla_lap_app\\lib\\site-packages (from transformers>=3.5.0->spuco) (0.15.1)\n",
      "Requirement already satisfied: safetensors>=0.4.1 in c:\\users\\spice\\anaconda3\\envs\\ucla_lap_app\\lib\\site-packages (from transformers>=3.5.0->spuco) (0.4.2)\n",
      "Requirement already satisfied: ogb>=1.2.6 in c:\\users\\spice\\anaconda3\\envs\\ucla_lap_app\\lib\\site-packages (from wilds>=2.0.0->spuco) (1.3.6)\n",
      "Requirement already satisfied: outdated>=0.2.0 in c:\\users\\spice\\anaconda3\\envs\\ucla_lap_app\\lib\\site-packages (from wilds>=2.0.0->spuco) (0.2.2)\n",
      "Requirement already satisfied: pandas>=1.1.0 in c:\\users\\spice\\anaconda3\\envs\\ucla_lap_app\\lib\\site-packages (from wilds>=2.0.0->spuco) (2.2.0)\n",
      "Requirement already satisfied: pytz>=2020.4 in c:\\users\\spice\\anaconda3\\envs\\ucla_lap_app\\lib\\site-packages (from wilds>=2.0.0->spuco) (2024.1)\n",
      "Requirement already satisfied: six>=1.12.0 in c:\\users\\spice\\anaconda3\\envs\\ucla_lap_app\\lib\\site-packages (from ogb>=1.2.6->wilds>=2.0.0->spuco) (1.16.0)\n",
      "Requirement already satisfied: urllib3>=1.24.0 in c:\\users\\spice\\anaconda3\\envs\\ucla_lap_app\\lib\\site-packages (from ogb>=1.2.6->wilds>=2.0.0->spuco) (2.2.0)\n",
      "Requirement already satisfied: littleutils in c:\\users\\spice\\anaconda3\\envs\\ucla_lap_app\\lib\\site-packages (from outdated>=0.2.0->wilds>=2.0.0->spuco) (0.2.2)\n",
      "Requirement already satisfied: tzdata>=2022.7 in c:\\users\\spice\\anaconda3\\envs\\ucla_lap_app\\lib\\site-packages (from pandas>=1.1.0->wilds>=2.0.0->spuco) (2023.4)\n",
      "Requirement already satisfied: MarkupSafe>=2.0 in c:\\users\\spice\\anaconda3\\envs\\ucla_lap_app\\lib\\site-packages (from jinja2->torch>=2.0.0->spuco) (2.1.5)\n",
      "Requirement already satisfied: charset-normalizer<4,>=2 in c:\\users\\spice\\anaconda3\\envs\\ucla_lap_app\\lib\\site-packages (from requests->torchvision>=0.15.1->spuco) (3.3.2)\n",
      "Requirement already satisfied: idna<4,>=2.5 in c:\\users\\spice\\anaconda3\\envs\\ucla_lap_app\\lib\\site-packages (from requests->torchvision>=0.15.1->spuco) (3.6)\n",
      "Requirement already satisfied: certifi>=2017.4.17 in c:\\users\\spice\\anaconda3\\envs\\ucla_lap_app\\lib\\site-packages (from requests->torchvision>=0.15.1->spuco) (2024.2.2)\n",
      "Requirement already satisfied: mpmath>=0.19 in c:\\users\\spice\\anaconda3\\envs\\ucla_lap_app\\lib\\site-packages (from sympy->torch>=2.0.0->spuco) (1.3.0)\n",
      "Note: you may need to restart the kernel to use updated packages.\n"
     ]
    }
   ],
   "source": [
    "%pip install spuco"
   ]
  },
  {
   "cell_type": "code",
   "execution_count": 11,
   "metadata": {},
   "outputs": [],
   "source": [
    "import torch "
   ]
  },
  {
   "cell_type": "code",
   "execution_count": 12,
   "metadata": {},
   "outputs": [
    {
     "name": "stderr",
     "output_type": "stream",
     "text": [
      "100%|██████████| 48004/48004 [00:15<00:00, 3015.21it/s]\n",
      "100%|██████████| 10000/10000 [00:03<00:00, 3270.71it/s]\n"
     ]
    }
   ],
   "source": [
    "from spuco.datasets import SpuCoMNIST, SpuriousFeatureDifficulty\n",
    "import torchvision.transforms as T\n",
    "\n",
    "classes = [[0, 1], [2, 3], [4, 5], [6, 7], [8, 9]]\n",
    "difficulty = SpuriousFeatureDifficulty.MAGNITUDE_LARGE\n",
    "\n",
    "trainset = SpuCoMNIST(\n",
    "    root=\"/data/mnist/\",\n",
    "    spurious_feature_difficulty=difficulty,\n",
    "    spurious_correlation_strength=0.995,\n",
    "    classes=classes,\n",
    "    split=\"train\"\n",
    ")\n",
    "trainset.initialize()\n",
    "\n",
    "testset = SpuCoMNIST(\n",
    "    root=\"/data/mnist/\",\n",
    "    spurious_feature_difficulty=difficulty,\n",
    "    classes=classes,\n",
    "    split=\"test\"\n",
    ")\n",
    "testset.initialize()"
   ]
  },
  {
   "cell_type": "code",
   "execution_count": 13,
   "metadata": {},
   "outputs": [
    {
     "data": {
      "image/jpeg": "[encoded data removed]",
      "image/png": "[encoded data removed]",
      "text/plain": [
       "<PIL.Image.Image image mode=RGB size=28x28>"
      ]
     },
     "execution_count": 13,
     "metadata": {},
     "output_type": "execute_result"
    }
   ],
   "source": [
    "T.ToPILImage()(trainset[1000][0]).resize((28,28))"
   ]
  },
  {
   "cell_type": "code",
   "execution_count": 14,
   "metadata": {},
   "outputs": [
    {
     "name": "stderr",
     "output_type": "stream",
     "text": [
      "Epoch 0:   0%|          | 0/751 [00:00<?, ?batch/s]"
     ]
    },
    {
     "name": "stdout",
     "output_type": "stream",
     "text": [
      "Epoch 0:   0%|          | 0/751 [00:00<?, ?batch/s]\n"
     ]
    },
    {
     "name": "stderr",
     "output_type": "stream",
     "text": [
      "Exception ignored in: <function _MultiProcessingDataLoaderIter.__del__ at 0x00000164CECD6320>\n",
      "Traceback (most recent call last):\n",
      "  File \"c:\\Users\\spice\\anaconda3\\envs\\UCLA_Lap_App\\lib\\site-packages\\torch\\utils\\data\\dataloader.py\", line 1479, in __del__\n",
      "    self._shutdown_workers()\n",
      "  File \"c:\\Users\\spice\\anaconda3\\envs\\UCLA_Lap_App\\lib\\site-packages\\torch\\utils\\data\\dataloader.py\", line 1437, in _shutdown_workers\n",
      "    if self._persistent_workers or self._workers_status[worker_id]:\n",
      "AttributeError: '_MultiProcessingDataLoaderIter' object has no attribute '_workers_status'\n",
      "Epoch 0: 100%|██████████| 751/751 [03:12<00:00,  3.89batch/s, accuracy=100.0%, loss=0.00562] \n"
     ]
    }
   ],
   "source": [
    "from spuco.models import model_factory \n",
    "from spuco.utils import Trainer\n",
    "from torch.optim import SGD\n",
    "from spuco.robust_train import ERM\n",
    "\n",
    "model = model_factory(\"lenet\", trainset[0][0].shape, trainset.num_classes)\n",
    "\n",
    "from torch.optim import SGD\n",
    "\n",
    "erm = ERM(\n",
    "    model=model,\n",
    "    num_epochs=1,\n",
    "    trainset=trainset,\n",
    "    batch_size=64,\n",
    "    optimizer=SGD(model.parameters(), lr=1e-3, weight_decay=5e-4, momentum=0.9, nesterov=True),\n",
    "    #device=device,\n",
    "    verbose=True\n",
    ")\n",
    "\n",
    "erm.train()"
   ]
  },
  {
   "cell_type": "code",
   "execution_count": 15,
   "metadata": {},
   "outputs": [
    {
     "name": "stderr",
     "output_type": "stream",
     "text": [
      "Evaluating group-wise accuracy:   4%|▍         | 1/25 [01:02<25:11, 62.99s/it]"
     ]
    },
    {
     "name": "stdout",
     "output_type": "stream",
     "text": [
      "Group (0, 0) Accuracy: 100.0\n"
     ]
    },
    {
     "name": "stderr",
     "output_type": "stream",
     "text": [
      "Evaluating group-wise accuracy:   8%|▊         | 2/25 [01:37<17:46, 46.36s/it]"
     ]
    },
    {
     "name": "stdout",
     "output_type": "stream",
     "text": [
      "Group (0, 1) Accuracy: 0.0\n"
     ]
    },
    {
     "name": "stderr",
     "output_type": "stream",
     "text": [
      "Evaluating group-wise accuracy:  12%|█▏        | 3/25 [02:09<14:32, 39.64s/it]"
     ]
    },
    {
     "name": "stdout",
     "output_type": "stream",
     "text": [
      "Group (0, 2) Accuracy: 0.0\n"
     ]
    },
    {
     "name": "stderr",
     "output_type": "stream",
     "text": [
      "Evaluating group-wise accuracy:  16%|█▌        | 4/25 [02:39<12:33, 35.86s/it]"
     ]
    },
    {
     "name": "stdout",
     "output_type": "stream",
     "text": [
      "Group (0, 3) Accuracy: 0.0\n"
     ]
    },
    {
     "name": "stderr",
     "output_type": "stream",
     "text": [
      "Evaluating group-wise accuracy:  20%|██        | 5/25 [03:08<11:09, 33.50s/it]"
     ]
    },
    {
     "name": "stdout",
     "output_type": "stream",
     "text": [
      "Group (0, 4) Accuracy: 0.0\n"
     ]
    },
    {
     "name": "stderr",
     "output_type": "stream",
     "text": [
      "Evaluating group-wise accuracy:  24%|██▍       | 6/25 [03:42<10:35, 33.45s/it]"
     ]
    },
    {
     "name": "stdout",
     "output_type": "stream",
     "text": [
      "Group (1, 0) Accuracy: 0.0\n"
     ]
    },
    {
     "name": "stderr",
     "output_type": "stream",
     "text": [
      "Evaluating group-wise accuracy:  28%|██▊       | 7/25 [04:15<10:02, 33.47s/it]"
     ]
    },
    {
     "name": "stdout",
     "output_type": "stream",
     "text": [
      "Group (1, 1) Accuracy: 100.0\n"
     ]
    },
    {
     "name": "stderr",
     "output_type": "stream",
     "text": [
      "Evaluating group-wise accuracy:  32%|███▏      | 8/25 [04:49<09:29, 33.49s/it]"
     ]
    },
    {
     "name": "stdout",
     "output_type": "stream",
     "text": [
      "Group (1, 2) Accuracy: 0.0\n"
     ]
    },
    {
     "name": "stderr",
     "output_type": "stream",
     "text": [
      "Evaluating group-wise accuracy:  36%|███▌      | 9/25 [05:21<08:48, 33.00s/it]"
     ]
    },
    {
     "name": "stdout",
     "output_type": "stream",
     "text": [
      "Group (1, 3) Accuracy: 0.0\n"
     ]
    },
    {
     "name": "stderr",
     "output_type": "stream",
     "text": [
      "Evaluating group-wise accuracy:  40%|████      | 10/25 [05:54<08:16, 33.10s/it]"
     ]
    },
    {
     "name": "stdout",
     "output_type": "stream",
     "text": [
      "Group (1, 4) Accuracy: 0.0\n"
     ]
    },
    {
     "name": "stderr",
     "output_type": "stream",
     "text": [
      "Evaluating group-wise accuracy:  44%|████▍     | 11/25 [06:25<07:35, 32.56s/it]"
     ]
    },
    {
     "name": "stdout",
     "output_type": "stream",
     "text": [
      "Group (2, 0) Accuracy: 0.0\n"
     ]
    },
    {
     "name": "stderr",
     "output_type": "stream",
     "text": [
      "Evaluating group-wise accuracy:  48%|████▊     | 12/25 [06:59<07:07, 32.92s/it]"
     ]
    },
    {
     "name": "stdout",
     "output_type": "stream",
     "text": [
      "Group (2, 1) Accuracy: 0.0\n"
     ]
    },
    {
     "name": "stderr",
     "output_type": "stream",
     "text": [
      "Evaluating group-wise accuracy:  52%|█████▏    | 13/25 [07:34<06:42, 33.55s/it]"
     ]
    },
    {
     "name": "stdout",
     "output_type": "stream",
     "text": [
      "Group (2, 2) Accuracy: 100.0\n"
     ]
    },
    {
     "name": "stderr",
     "output_type": "stream",
     "text": [
      "Evaluating group-wise accuracy:  56%|█████▌    | 14/25 [08:10<06:16, 34.25s/it]"
     ]
    },
    {
     "name": "stdout",
     "output_type": "stream",
     "text": [
      "Group (2, 3) Accuracy: 0.0\n"
     ]
    },
    {
     "name": "stderr",
     "output_type": "stream",
     "text": [
      "Evaluating group-wise accuracy:  60%|██████    | 15/25 [08:41<05:33, 33.30s/it]"
     ]
    },
    {
     "name": "stdout",
     "output_type": "stream",
     "text": [
      "Group (2, 4) Accuracy: 0.0\n"
     ]
    },
    {
     "name": "stderr",
     "output_type": "stream",
     "text": [
      "Evaluating group-wise accuracy:  64%|██████▍   | 16/25 [09:11<04:51, 32.38s/it]"
     ]
    },
    {
     "name": "stdout",
     "output_type": "stream",
     "text": [
      "Group (3, 0) Accuracy: 0.0\n"
     ]
    },
    {
     "name": "stderr",
     "output_type": "stream",
     "text": [
      "Evaluating group-wise accuracy:  68%|██████▊   | 17/25 [09:42<04:14, 31.82s/it]"
     ]
    },
    {
     "name": "stdout",
     "output_type": "stream",
     "text": [
      "Group (3, 1) Accuracy: 0.0\n"
     ]
    },
    {
     "name": "stderr",
     "output_type": "stream",
     "text": [
      "Evaluating group-wise accuracy:  72%|███████▏  | 18/25 [10:15<03:46, 32.36s/it]"
     ]
    },
    {
     "name": "stdout",
     "output_type": "stream",
     "text": [
      "Group (3, 2) Accuracy: 0.0\n"
     ]
    },
    {
     "name": "stderr",
     "output_type": "stream",
     "text": [
      "Evaluating group-wise accuracy:  76%|███████▌  | 19/25 [10:46<03:11, 31.96s/it]"
     ]
    },
    {
     "name": "stdout",
     "output_type": "stream",
     "text": [
      "Group (3, 3) Accuracy: 100.0\n"
     ]
    },
    {
     "name": "stderr",
     "output_type": "stream",
     "text": [
      "Evaluating group-wise accuracy:  80%|████████  | 20/25 [11:19<02:40, 32.15s/it]"
     ]
    },
    {
     "name": "stdout",
     "output_type": "stream",
     "text": [
      "Group (3, 4) Accuracy: 0.0\n"
     ]
    },
    {
     "name": "stderr",
     "output_type": "stream",
     "text": [
      "Evaluating group-wise accuracy:  84%|████████▍ | 21/25 [11:55<02:13, 33.28s/it]"
     ]
    },
    {
     "name": "stdout",
     "output_type": "stream",
     "text": [
      "Group (4, 0) Accuracy: 0.0\n"
     ]
    },
    {
     "name": "stderr",
     "output_type": "stream",
     "text": [
      "Evaluating group-wise accuracy:  88%|████████▊ | 22/25 [12:26<01:38, 32.71s/it]"
     ]
    },
    {
     "name": "stdout",
     "output_type": "stream",
     "text": [
      "Group (4, 1) Accuracy: 0.0\n"
     ]
    },
    {
     "name": "stderr",
     "output_type": "stream",
     "text": [
      "Evaluating group-wise accuracy:  92%|█████████▏| 23/25 [12:58<01:04, 32.34s/it]"
     ]
    },
    {
     "name": "stdout",
     "output_type": "stream",
     "text": [
      "Group (4, 2) Accuracy: 0.0\n"
     ]
    },
    {
     "name": "stderr",
     "output_type": "stream",
     "text": [
      "Evaluating group-wise accuracy:  96%|█████████▌| 24/25 [13:32<00:33, 33.07s/it]"
     ]
    },
    {
     "name": "stdout",
     "output_type": "stream",
     "text": [
      "Group (4, 3) Accuracy: 0.0\n"
     ]
    },
    {
     "name": "stderr",
     "output_type": "stream",
     "text": [
      "Evaluating group-wise accuracy: 100%|██████████| 25/25 [14:05<00:00, 33.80s/it]"
     ]
    },
    {
     "name": "stdout",
     "output_type": "stream",
     "text": [
      "Group (4, 4) Accuracy: 100.0\n"
     ]
    },
    {
     "name": "stderr",
     "output_type": "stream",
     "text": [
      "\n"
     ]
    },
    {
     "data": {
      "text/plain": [
       "{(0, 0): 100.0,\n",
       " (0, 1): 0.0,\n",
       " (0, 2): 0.0,\n",
       " (0, 3): 0.0,\n",
       " (0, 4): 0.0,\n",
       " (1, 0): 0.0,\n",
       " (1, 1): 100.0,\n",
       " (1, 2): 0.0,\n",
       " (1, 3): 0.0,\n",
       " (1, 4): 0.0,\n",
       " (2, 0): 0.0,\n",
       " (2, 1): 0.0,\n",
       " (2, 2): 100.0,\n",
       " (2, 3): 0.0,\n",
       " (2, 4): 0.0,\n",
       " (3, 0): 0.0,\n",
       " (3, 1): 0.0,\n",
       " (3, 2): 0.0,\n",
       " (3, 3): 100.0,\n",
       " (3, 4): 0.0,\n",
       " (4, 0): 0.0,\n",
       " (4, 1): 0.0,\n",
       " (4, 2): 0.0,\n",
       " (4, 3): 0.0,\n",
       " (4, 4): 100.0}"
      ]
     },
     "execution_count": 15,
     "metadata": {},
     "output_type": "execute_result"
    }
   ],
   "source": [
    "from spuco.evaluate import Evaluator \n",
    "\n",
    "evaluator = Evaluator(\n",
    "    testset=testset,\n",
    "    group_partition=testset.group_partition,\n",
    "    group_weights=trainset.group_weights,\n",
    "    batch_size=64,\n",
    "    model=model,\n",
    "    verbose=True\n",
    ")\n",
    "evaluator.evaluate()"
   ]
  },
  {
   "cell_type": "code",
   "execution_count": 16,
   "metadata": {},
   "outputs": [
    {
     "name": "stderr",
     "output_type": "stream",
     "text": [
      "Getting Trainset Outputs: 100%|██████████| 751/751 [02:04<00:00,  6.04batch/s]  \n",
      "Clustering class-wise: 100%|██████████| 5/5 [00:00<00:00,  5.18it/s]\n"
     ]
    }
   ],
   "source": [
    "from spuco.group_inference import Cluster, ClusterAlg\n",
    "\n",
    "logits = erm.trainer.get_trainset_outputs()\n",
    "cluster = Cluster(\n",
    "    Z=logits,\n",
    "    class_labels=trainset.labels,\n",
    "    cluster_alg=ClusterAlg.KMEANS,\n",
    "    num_clusters=2,\n",
    "    verbose=True\n",
    ")\n",
    "group_partition = cluster.infer_groups()"
   ]
  },
  {
   "cell_type": "code",
   "execution_count": 17,
   "metadata": {},
   "outputs": [
    {
     "name": "stdout",
     "output_type": "stream",
     "text": [
      "(0, 0) 10106\n",
      "(0, 1) 27\n",
      "(1, 0) 9634\n",
      "(1, 1) 38\n",
      "(2, 0) 8974\n",
      "(2, 1) 37\n",
      "(3, 0) 9698\n",
      "(3, 1) 49\n",
      "(4, 0) 9403\n",
      "(4, 1) 38\n"
     ]
    }
   ],
   "source": [
    "for key in sorted(group_partition.keys()):\n",
    "    print(key, len(group_partition[key]))"
   ]
  },
  {
   "cell_type": "code",
   "execution_count": 18,
   "metadata": {},
   "outputs": [
    {
     "name": "stderr",
     "output_type": "stream",
     "text": [
      "Evaluating group-wise accuracy:  10%|█         | 1/10 [01:52<16:53, 112.64s/it]"
     ]
    },
    {
     "name": "stdout",
     "output_type": "stream",
     "text": [
      "Group (0, 0) Accuracy: 99.76251731644568\n"
     ]
    },
    {
     "name": "stderr",
     "output_type": "stream",
     "text": [
      "Evaluating group-wise accuracy:  20%|██        | 2/10 [03:32<14:03, 105.41s/it]"
     ]
    },
    {
     "name": "stdout",
     "output_type": "stream",
     "text": [
      "Group (0, 1) Accuracy: 0.0\n"
     ]
    },
    {
     "name": "stderr",
     "output_type": "stream",
     "text": [
      "Evaluating group-wise accuracy:  30%|███       | 3/10 [05:10<11:53, 101.99s/it]"
     ]
    },
    {
     "name": "stdout",
     "output_type": "stream",
     "text": [
      "Group (1, 0) Accuracy: 99.88582105044634\n"
     ]
    },
    {
     "name": "stderr",
     "output_type": "stream",
     "text": [
      "Evaluating group-wise accuracy:  40%|████      | 4/10 [06:49<10:03, 100.61s/it]"
     ]
    },
    {
     "name": "stdout",
     "output_type": "stream",
     "text": [
      "Group (1, 1) Accuracy: 0.0\n"
     ]
    },
    {
     "name": "stderr",
     "output_type": "stream",
     "text": [
      "Evaluating group-wise accuracy:  50%|█████     | 5/10 [08:23<08:11, 98.31s/it] "
     ]
    },
    {
     "name": "stdout",
     "output_type": "stream",
     "text": [
      "Group (2, 0) Accuracy: 99.89971027412525\n"
     ]
    },
    {
     "name": "stderr",
     "output_type": "stream",
     "text": [
      "Evaluating group-wise accuracy:  60%|██████    | 6/10 [10:02<06:34, 98.51s/it]"
     ]
    },
    {
     "name": "stdout",
     "output_type": "stream",
     "text": [
      "Group (2, 1) Accuracy: 0.0\n"
     ]
    },
    {
     "name": "stderr",
     "output_type": "stream",
     "text": [
      "Evaluating group-wise accuracy:  70%|███████   | 7/10 [12:15<05:29, 109.74s/it]"
     ]
    },
    {
     "name": "stdout",
     "output_type": "stream",
     "text": [
      "Group (3, 0) Accuracy: 100.0\n"
     ]
    },
    {
     "name": "stderr",
     "output_type": "stream",
     "text": [
      "Evaluating group-wise accuracy:  80%|████████  | 8/10 [14:13<03:44, 112.26s/it]"
     ]
    },
    {
     "name": "stdout",
     "output_type": "stream",
     "text": [
      "Group (3, 1) Accuracy: 0.0\n"
     ]
    },
    {
     "name": "stderr",
     "output_type": "stream",
     "text": [
      "Evaluating group-wise accuracy:  90%|█████████ | 9/10 [16:15<01:55, 115.37s/it]"
     ]
    },
    {
     "name": "stdout",
     "output_type": "stream",
     "text": [
      "Group (4, 0) Accuracy: 99.89365096245879\n"
     ]
    },
    {
     "name": "stderr",
     "output_type": "stream",
     "text": [
      "Evaluating group-wise accuracy: 100%|██████████| 10/10 [18:09<00:00, 108.98s/it]"
     ]
    },
    {
     "name": "stdout",
     "output_type": "stream",
     "text": [
      "Group (4, 1) Accuracy: 0.0\n"
     ]
    },
    {
     "name": "stderr",
     "output_type": "stream",
     "text": [
      "\n"
     ]
    },
    {
     "data": {
      "text/plain": [
       "{(0, 0): 99.76251731644568,\n",
       " (0, 1): 0.0,\n",
       " (1, 0): 99.88582105044634,\n",
       " (1, 1): 0.0,\n",
       " (2, 0): 99.89971027412525,\n",
       " (2, 1): 0.0,\n",
       " (3, 0): 100.0,\n",
       " (3, 1): 0.0,\n",
       " (4, 0): 99.89365096245879,\n",
       " (4, 1): 0.0}"
      ]
     },
     "execution_count": 18,
     "metadata": {},
     "output_type": "execute_result"
    }
   ],
   "source": [
    "from spuco.evaluate import Evaluator \n",
    "\n",
    "evaluator = Evaluator(\n",
    "    testset=trainset,\n",
    "    group_partition=group_partition,\n",
    "    group_weights=trainset.group_weights,\n",
    "    batch_size=64,\n",
    "    model=model,\n",
    "    verbose=True\n",
    ")\n",
    "evaluator.evaluate()"
   ]
  },
  {
   "cell_type": "code",
   "execution_count": 19,
   "metadata": {},
   "outputs": [
    {
     "name": "stderr",
     "output_type": "stream",
     "text": [
      "Epoch 0:   0%|          | 0/751 [00:00<?, ?batch/s]"
     ]
    },
    {
     "name": "stdout",
     "output_type": "stream",
     "text": [
      "Epoch 0:   0%|          | 0/751 [00:00<?, ?batch/s]\n"
     ]
    },
    {
     "name": "stderr",
     "output_type": "stream",
     "text": [
      "Epoch 0: 100%|██████████| 751/751 [01:54<00:00,  6.55batch/s, accuracy=25.0%, loss=1.63]    \n",
      "Epoch 1:   0%|          | 0/751 [00:00<?, ?batch/s]"
     ]
    },
    {
     "name": "stdout",
     "output_type": "stream",
     "text": [
      "Epoch 1:   0%|          | 0/751 [00:00<?, ?batch/s]\n"
     ]
    },
    {
     "name": "stderr",
     "output_type": "stream",
     "text": [
      "Epoch 1: 100%|██████████| 751/751 [01:50<00:00,  6.78batch/s, accuracy=0.0%, loss=1.83]     \n",
      "Epoch 2:   0%|          | 0/751 [00:00<?, ?batch/s]"
     ]
    },
    {
     "name": "stdout",
     "output_type": "stream",
     "text": [
      "Epoch 2:   0%|          | 0/751 [00:00<?, ?batch/s]\n"
     ]
    },
    {
     "name": "stderr",
     "output_type": "stream",
     "text": [
      "Epoch 2: 100%|██████████| 751/751 [01:45<00:00,  7.09batch/s, accuracy=100.0%, loss=0.169]  \n",
      "Epoch 3:   0%|          | 0/751 [00:00<?, ?batch/s]"
     ]
    },
    {
     "name": "stdout",
     "output_type": "stream",
     "text": [
      "Epoch 3:   0%|          | 0/751 [00:00<?, ?batch/s]\n"
     ]
    },
    {
     "name": "stderr",
     "output_type": "stream",
     "text": [
      "Epoch 3: 100%|██████████| 751/751 [01:49<00:00,  6.86batch/s, accuracy=100.0%, loss=0.0238]  \n",
      "Epoch 4:   0%|          | 0/751 [00:00<?, ?batch/s]"
     ]
    },
    {
     "name": "stdout",
     "output_type": "stream",
     "text": [
      "Epoch 4:   0%|          | 0/751 [00:00<?, ?batch/s]\n"
     ]
    },
    {
     "name": "stderr",
     "output_type": "stream",
     "text": [
      "Epoch 4: 100%|██████████| 751/751 [01:48<00:00,  6.91batch/s, accuracy=100.0%, loss=0.0454]  \n"
     ]
    }
   ],
   "source": [
    "from torch.optim import SGD\n",
    "from spuco.robust_train import GroupBalanceBatchERM, ClassBalanceBatchERM\n",
    "from spuco.models import model_factory \n",
    "\n",
    "model = model_factory(\"lenet\", trainset[0][0].shape, trainset.num_classes)\n",
    "group_balance_erm = GroupBalanceBatchERM(\n",
    "    model=model,\n",
    "    num_epochs=5,\n",
    "    trainset=trainset,\n",
    "    group_partition=group_partition,\n",
    "    batch_size=64,\n",
    "    optimizer=SGD(model.parameters(), lr=1e-3, weight_decay=5e-4, momentum=0.9, nesterov=True),\n",
    "    verbose=True\n",
    ")\n",
    "group_balance_erm.train()"
   ]
  },
  {
   "cell_type": "code",
   "execution_count": 20,
   "metadata": {},
   "outputs": [
    {
     "name": "stderr",
     "output_type": "stream",
     "text": [
      "Evaluating group-wise accuracy:   0%|          | 0/25 [00:00<?, ?it/s]"
     ]
    },
    {
     "name": "stderr",
     "output_type": "stream",
     "text": [
      "Evaluating group-wise accuracy:   4%|▍         | 1/25 [00:30<12:20, 30.87s/it]"
     ]
    },
    {
     "name": "stdout",
     "output_type": "stream",
     "text": [
      "Group (0, 0) Accuracy: 100.0\n"
     ]
    },
    {
     "name": "stderr",
     "output_type": "stream",
     "text": [
      "Evaluating group-wise accuracy:   8%|▊         | 2/25 [01:00<11:30, 30.01s/it]"
     ]
    },
    {
     "name": "stdout",
     "output_type": "stream",
     "text": [
      "Group (0, 1) Accuracy: 18.912529550827422\n"
     ]
    },
    {
     "name": "stderr",
     "output_type": "stream",
     "text": [
      "Evaluating group-wise accuracy:  12%|█▏        | 3/25 [01:30<10:58, 29.95s/it]"
     ]
    },
    {
     "name": "stdout",
     "output_type": "stream",
     "text": [
      "Group (0, 2) Accuracy: 87.70685579196217\n"
     ]
    },
    {
     "name": "stderr",
     "output_type": "stream",
     "text": [
      "Evaluating group-wise accuracy:  16%|█▌        | 4/25 [01:59<10:25, 29.76s/it]"
     ]
    },
    {
     "name": "stdout",
     "output_type": "stream",
     "text": [
      "Group (0, 3) Accuracy: 88.88888888888889\n"
     ]
    },
    {
     "name": "stderr",
     "output_type": "stream",
     "text": [
      "Evaluating group-wise accuracy:  20%|██        | 5/25 [02:28<09:52, 29.61s/it]"
     ]
    },
    {
     "name": "stdout",
     "output_type": "stream",
     "text": [
      "Group (0, 4) Accuracy: 17.96690307328605\n"
     ]
    },
    {
     "name": "stderr",
     "output_type": "stream",
     "text": [
      "Evaluating group-wise accuracy:  24%|██▍       | 6/25 [02:58<09:21, 29.54s/it]"
     ]
    },
    {
     "name": "stdout",
     "output_type": "stream",
     "text": [
      "Group (1, 0) Accuracy: 78.72860635696821\n"
     ]
    },
    {
     "name": "stderr",
     "output_type": "stream",
     "text": [
      "Evaluating group-wise accuracy:  28%|██▊       | 7/25 [03:29<09:02, 30.12s/it]"
     ]
    },
    {
     "name": "stdout",
     "output_type": "stream",
     "text": [
      "Group (1, 1) Accuracy: 97.06601466992664\n"
     ]
    },
    {
     "name": "stderr",
     "output_type": "stream",
     "text": [
      "Evaluating group-wise accuracy:  32%|███▏      | 8/25 [03:59<08:30, 30.05s/it]"
     ]
    },
    {
     "name": "stdout",
     "output_type": "stream",
     "text": [
      "Group (1, 2) Accuracy: 27.941176470588236\n"
     ]
    },
    {
     "name": "stderr",
     "output_type": "stream",
     "text": [
      "Evaluating group-wise accuracy:  36%|███▌      | 9/25 [04:29<07:58, 29.91s/it]"
     ]
    },
    {
     "name": "stdout",
     "output_type": "stream",
     "text": [
      "Group (1, 3) Accuracy: 57.1078431372549\n"
     ]
    },
    {
     "name": "stderr",
     "output_type": "stream",
     "text": [
      "Evaluating group-wise accuracy:  40%|████      | 10/25 [04:58<07:27, 29.82s/it]"
     ]
    },
    {
     "name": "stdout",
     "output_type": "stream",
     "text": [
      "Group (1, 4) Accuracy: 67.15686274509804\n"
     ]
    },
    {
     "name": "stderr",
     "output_type": "stream",
     "text": [
      "Evaluating group-wise accuracy:  44%|████▍     | 11/25 [05:28<06:56, 29.76s/it]"
     ]
    },
    {
     "name": "stdout",
     "output_type": "stream",
     "text": [
      "Group (2, 0) Accuracy: 77.86666666666666\n"
     ]
    },
    {
     "name": "stderr",
     "output_type": "stream",
     "text": [
      "Evaluating group-wise accuracy:  48%|████▊     | 12/25 [05:56<06:22, 29.39s/it]"
     ]
    },
    {
     "name": "stdout",
     "output_type": "stream",
     "text": [
      "Group (2, 1) Accuracy: 71.46666666666667\n"
     ]
    },
    {
     "name": "stderr",
     "output_type": "stream",
     "text": [
      "Evaluating group-wise accuracy:  52%|█████▏    | 13/25 [06:26<05:54, 29.50s/it]"
     ]
    },
    {
     "name": "stdout",
     "output_type": "stream",
     "text": [
      "Group (2, 2) Accuracy: 96.26666666666667\n"
     ]
    },
    {
     "name": "stderr",
     "output_type": "stream",
     "text": [
      "Evaluating group-wise accuracy:  56%|█████▌    | 14/25 [06:56<05:24, 29.47s/it]"
     ]
    },
    {
     "name": "stdout",
     "output_type": "stream",
     "text": [
      "Group (2, 3) Accuracy: 9.866666666666667\n"
     ]
    },
    {
     "name": "stderr",
     "output_type": "stream",
     "text": [
      "Evaluating group-wise accuracy:  60%|██████    | 15/25 [07:26<04:56, 29.62s/it]"
     ]
    },
    {
     "name": "stdout",
     "output_type": "stream",
     "text": [
      "Group (2, 4) Accuracy: 58.02139037433155\n"
     ]
    },
    {
     "name": "stderr",
     "output_type": "stream",
     "text": [
      "Evaluating group-wise accuracy:  64%|██████▍   | 16/25 [07:56<04:27, 29.73s/it]"
     ]
    },
    {
     "name": "stdout",
     "output_type": "stream",
     "text": [
      "Group (3, 0) Accuracy: 64.57286432160804\n"
     ]
    },
    {
     "name": "stderr",
     "output_type": "stream",
     "text": [
      "Evaluating group-wise accuracy:  68%|██████▊   | 17/25 [08:26<03:59, 29.97s/it]"
     ]
    },
    {
     "name": "stdout",
     "output_type": "stream",
     "text": [
      "Group (3, 1) Accuracy: 56.67506297229219\n"
     ]
    },
    {
     "name": "stderr",
     "output_type": "stream",
     "text": [
      "Evaluating group-wise accuracy:  72%|███████▏  | 18/25 [08:56<03:29, 29.90s/it]"
     ]
    },
    {
     "name": "stdout",
     "output_type": "stream",
     "text": [
      "Group (3, 2) Accuracy: 63.22418136020151\n"
     ]
    },
    {
     "name": "stderr",
     "output_type": "stream",
     "text": [
      "Evaluating group-wise accuracy:  76%|███████▌  | 19/25 [09:29<03:04, 30.73s/it]"
     ]
    },
    {
     "name": "stdout",
     "output_type": "stream",
     "text": [
      "Group (3, 3) Accuracy: 96.4735516372796\n"
     ]
    },
    {
     "name": "stderr",
     "output_type": "stream",
     "text": [
      "Evaluating group-wise accuracy:  80%|████████  | 20/25 [09:59<02:33, 30.64s/it]"
     ]
    },
    {
     "name": "stdout",
     "output_type": "stream",
     "text": [
      "Group (3, 4) Accuracy: 39.54659949622166\n"
     ]
    },
    {
     "name": "stderr",
     "output_type": "stream",
     "text": [
      "Evaluating group-wise accuracy:  84%|████████▍ | 21/25 [10:29<02:02, 30.54s/it]"
     ]
    },
    {
     "name": "stdout",
     "output_type": "stream",
     "text": [
      "Group (4, 0) Accuracy: 1.5113350125944585\n"
     ]
    },
    {
     "name": "stderr",
     "output_type": "stream",
     "text": [
      "Evaluating group-wise accuracy:  88%|████████▊ | 22/25 [11:00<01:31, 30.46s/it]"
     ]
    },
    {
     "name": "stdout",
     "output_type": "stream",
     "text": [
      "Group (4, 1) Accuracy: 47.60705289672544\n"
     ]
    },
    {
     "name": "stderr",
     "output_type": "stream",
     "text": [
      "Evaluating group-wise accuracy:  92%|█████████▏| 23/25 [11:30<01:01, 30.51s/it]"
     ]
    },
    {
     "name": "stdout",
     "output_type": "stream",
     "text": [
      "Group (4, 2) Accuracy: 28.211586901763223\n"
     ]
    },
    {
     "name": "stderr",
     "output_type": "stream",
     "text": [
      "Evaluating group-wise accuracy:  96%|█████████▌| 24/25 [12:01<00:30, 30.61s/it]"
     ]
    },
    {
     "name": "stdout",
     "output_type": "stream",
     "text": [
      "Group (4, 3) Accuracy: 52.525252525252526\n"
     ]
    },
    {
     "name": "stderr",
     "output_type": "stream",
     "text": [
      "Evaluating group-wise accuracy: 100%|██████████| 25/25 [12:31<00:00, 30.08s/it]"
     ]
    },
    {
     "name": "stdout",
     "output_type": "stream",
     "text": [
      "Group (4, 4) Accuracy: 93.68686868686869\n"
     ]
    },
    {
     "name": "stderr",
     "output_type": "stream",
     "text": [
      "\n"
     ]
    },
    {
     "data": {
      "text/plain": [
       "{(0, 0): 100.0,\n",
       " (0, 1): 18.912529550827422,\n",
       " (0, 2): 87.70685579196217,\n",
       " (0, 3): 88.88888888888889,\n",
       " (0, 4): 17.96690307328605,\n",
       " (1, 0): 78.72860635696821,\n",
       " (1, 1): 97.06601466992664,\n",
       " (1, 2): 27.941176470588236,\n",
       " (1, 3): 57.1078431372549,\n",
       " (1, 4): 67.15686274509804,\n",
       " (2, 0): 77.86666666666666,\n",
       " (2, 1): 71.46666666666667,\n",
       " (2, 2): 96.26666666666667,\n",
       " (2, 3): 9.866666666666667,\n",
       " (2, 4): 58.02139037433155,\n",
       " (3, 0): 64.57286432160804,\n",
       " (3, 1): 56.67506297229219,\n",
       " (3, 2): 63.22418136020151,\n",
       " (3, 3): 96.4735516372796,\n",
       " (3, 4): 39.54659949622166,\n",
       " (4, 0): 1.5113350125944585,\n",
       " (4, 1): 47.60705289672544,\n",
       " (4, 2): 28.211586901763223,\n",
       " (4, 3): 52.525252525252526,\n",
       " (4, 4): 93.68686868686869}"
      ]
     },
     "execution_count": 20,
     "metadata": {},
     "output_type": "execute_result"
    }
   ],
   "source": [
    "from spuco.evaluate import Evaluator\n",
    "\n",
    "evaluator = Evaluator(\n",
    "    testset=testset,\n",
    "    group_partition=testset.group_partition,\n",
    "    group_weights=trainset.group_weights,\n",
    "    batch_size=64,\n",
    "    model=model,\n",
    "    verbose=True\n",
    ")\n",
    "evaluator.evaluate()"
   ]
  },
  {
   "cell_type": "code",
   "execution_count": 21,
   "metadata": {},
   "outputs": [
    {
     "data": {
      "text/plain": [
       "((4, 0), 1.5113350125944585)"
      ]
     },
     "execution_count": 21,
     "metadata": {},
     "output_type": "execute_result"
    }
   ],
   "source": [
    "evaluator.worst_group_accuracy"
   ]
  },
  {
   "cell_type": "code",
   "execution_count": 22,
   "metadata": {},
   "outputs": [
    {
     "data": {
      "text/plain": [
       "96.52947058124532"
      ]
     },
     "execution_count": 22,
     "metadata": {},
     "output_type": "execute_result"
    }
   ],
   "source": [
    "evaluator.average_accuracy"
   ]
  },
  {
   "cell_type": "code",
   "execution_count": 23,
   "metadata": {},
   "outputs": [
    {
     "data": {
      "text/plain": [
       "43.81"
      ]
     },
     "execution_count": 23,
     "metadata": {},
     "output_type": "execute_result"
    }
   ],
   "source": [
    "evaluator.evaluate_spurious_attribute_prediction()"
   ]
  }
 ],
 "metadata": {
  "kernelspec": {
   "display_name": "clip",
   "language": "python",
   "name": "python3"
  },
  "language_info": {
   "codemirror_mode": {
    "name": "ipython",
    "version": 3
   },
   "file_extension": ".py",
   "mimetype": "text/x-python",
   "name": "python",
   "nbconvert_exporter": "python",
   "pygments_lexer": "ipython3",
   "version": "3.10.13"
  },
  "orig_nbformat": 4
 },
 "nbformat": 4,
 "nbformat_minor": 2
}
